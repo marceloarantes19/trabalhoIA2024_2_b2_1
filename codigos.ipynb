{
 "cells": [
  {
   "cell_type": "code",
   "execution_count": null,
   "metadata": {},
   "outputs": [],
   "source": [
    "import numpy as np \n",
    "from sklearn.datasets import fetch_openml \n",
    "from sklearn.model_selection import train_test_split   \n",
    "\n",
    "# Carrega o dataset CIFAR-10 \n",
    "cifar10 = fetch_openml('cifar_10', version=1, cache=True) \n",
    "\n",
    "# Separa os dados e os rótulos \n",
    "X = cifar10.data \n",
    "y = cifar10.target \n",
    "\n",
    "# Converte os rótulos para inteiros \n",
    "y = y.astype(np.uint8) \n",
    "\n",
    "# Divide os dados em conjuntos de treinamento e teste \n",
    "X_train, X_test, y_train, y_test = train_test_split(X, y, test_size=0.2, random_state=42) \n",
    "\n",
    "# Normaliza os dados \n",
    "X_train = X_train / 255.0 \n",
    "X_test = X_test / 255.0\n",
    "\n"
   ]
  }
 ],
 "metadata": {
  "kernelspec": {
   "display_name": "Python 3",
   "language": "python",
   "name": "python3"
  },
  "language_info": {
   "name": "python",
   "version": "3.10.5"
  }
 },
 "nbformat": 4,
 "nbformat_minor": 2
}
